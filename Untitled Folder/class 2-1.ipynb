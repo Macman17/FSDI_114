{
 "cells": [
  {
   "cell_type": "code",
   "execution_count": 1,
   "id": "ab8689ac",
   "metadata": {},
   "outputs": [],
   "source": [
    "class Stack:\n",
    "    def __init__(self):\n",
    "        self.name = []\n",
    "        \n",
    "    def push(self, item):\n",
    "        self.name.append(item)\n",
    "    \n",
    "    def pop(self):\n",
    "        return self.items.pop()\n",
    "    \n",
    "    def is_empty(self):\n",
    "        return self.items == []\n",
    "    \n",
    "    def peek(self):\n",
    "        return self.items[len(self.items)-1]\n",
    "    \n",
    "    def size(self):\n",
    "        return len(self.items)\n",
    "    \n",
    "\n",
    "        "
   ]
  },
  {
   "cell_type": "markdown",
   "id": "1041ee79",
   "metadata": {},
   "source": [
    "Given a collection such as `[1,2,3,4,5]` or `['A', 'B', 'C', 'D']` use a stack to evese it so that you can get `[5,4,3,2,1]` and `['D', 'C', 'B', 'A']` \n",
    "respectively.\n",
    "\n",
    "```\n",
    "Example: reverse_collection([1,2 3]) == [3,2,1]\n",
    "    Your code must use the stack class above to do this\n",
    "    \n",
    "    \n",
    " Test cases\n",
    "    assert revers_collection(['a', 'b', 'c', 'd']) == ['d', 'c', 'b', 'a']\n",
    "    assert revers_collection([10, 20, 30, 40, 50]) == [50, 40, 30, 20, 10]"
   ]
  },
  {
   "cell_type": "code",
   "execution_count": 10,
   "id": "14790b35",
   "metadata": {},
   "outputs": [],
   "source": [
    "\n",
    "def reverse_collection(stack):\n",
    "    stack = Stack()\n",
    "    out_list = []\n",
    "    for element in collection:\n",
    "        stack.push(element)\n",
    "    while not stack.is_empty():\n",
    "        retieved_element = stack.pop()\n",
    "        out_list.append(retieved_element)\n",
    "    return out_list   \n",
    "\n",
    "    \n",
    "  \n",
    "    \n",
    "    \n",
    "    "
   ]
  },
  {
   "cell_type": "code",
   "execution_count": 23,
   "id": "d3494b97",
   "metadata": {},
   "outputs": [],
   "source": [
    "class Queue:\n",
    "    def __init__(self):\n",
    "        self.items = []\n",
    "        \n",
    "    def enqueue(self, item):\n",
    "        self.items.insert(0, item)\n",
    "    \n",
    "    def dequeue(self):\n",
    "        return self.items.pop()\n",
    "    \n",
    "    def is_empty(self):\n",
    "        return self.items == []\n",
    "    \n",
    "    def size(self):\n",
    "        return len(self.items)"
   ]
  },
  {
   "cell_type": "code",
   "execution_count": 33,
   "id": "071a2b37",
   "metadata": {},
   "outputs": [],
   "source": [
    "import time\n",
    "\n",
    "def fib(num):\n",
    "    if num < 2:\n",
    "        return num\n",
    "    return fib(num-1) + fib(num-2)\n",
    "\n",
    "\n",
    "def process_fib(collection):\n",
    "    queue = Queue()\n",
    "    for element in collection:\n",
    "        queue.enqueue(element)\n",
    "        while not queue.is_empty():\n",
    "            number = queue.dequeue()\n",
    "            start_time = time.perf_counter()\n",
    "            fib_no = fib(number)\n",
    "            end_time = time.perf_counter()\n",
    "            total_time = end_time - start_time\n",
    "            print(\"Fibonacci #%s is %s\" % (number, fib_no))\n",
    "            print(\"Calculating that took %.5f seconds.\" %total_time)\n",
    "            out_list = fib_no\n",
    "            \n",
    "    return out_list  \n",
    "\n",
    "            "
   ]
  },
  {
   "cell_type": "code",
   "execution_count": 34,
   "id": "63ccbaad",
   "metadata": {},
   "outputs": [
    {
     "name": "stdout",
     "output_type": "stream",
     "text": [
      "Fibonacci #0 is 0\n",
      "Calculating that took 0.00000 seconds.\n",
      "Fibonacci #1 is 1\n",
      "Calculating that took 0.00000 seconds.\n",
      "Fibonacci #2 is 1\n",
      "Calculating that took 0.00000 seconds.\n",
      "Fibonacci #3 is 2\n",
      "Calculating that took 0.00000 seconds.\n",
      "Fibonacci #4 is 3\n",
      "Calculating that took 0.00000 seconds.\n",
      "Fibonacci #5 is 5\n",
      "Calculating that took 0.00000 seconds.\n",
      "Fibonacci #6 is 8\n",
      "Calculating that took 0.00000 seconds.\n",
      "Fibonacci #7 is 13\n",
      "Calculating that took 0.00000 seconds.\n",
      "Fibonacci #8 is 21\n",
      "Calculating that took 0.00001 seconds.\n",
      "Fibonacci #9 is 34\n",
      "Calculating that took 0.00001 seconds.\n",
      "Fibonacci #10 is 55\n",
      "Calculating that took 0.00002 seconds.\n",
      "Fibonacci #11 is 89\n",
      "Calculating that took 0.00003 seconds.\n",
      "Fibonacci #12 is 144\n",
      "Calculating that took 0.00008 seconds.\n",
      "Fibonacci #13 is 233\n",
      "Calculating that took 0.00008 seconds.\n",
      "Fibonacci #14 is 377\n",
      "Calculating that took 0.00013 seconds.\n",
      "Fibonacci #15 is 610\n",
      "Calculating that took 0.00021 seconds.\n",
      "Fibonacci #16 is 987\n",
      "Calculating that took 0.00034 seconds.\n",
      "Fibonacci #17 is 1597\n",
      "Calculating that took 0.00059 seconds.\n",
      "Fibonacci #18 is 2584\n",
      "Calculating that took 0.00093 seconds.\n",
      "Fibonacci #19 is 4181\n",
      "Calculating that took 0.00406 seconds.\n"
     ]
    },
    {
     "data": {
      "text/plain": [
       "4181"
      ]
     },
     "execution_count": 34,
     "metadata": {},
     "output_type": "execute_result"
    }
   ],
   "source": [
    "process_fib([i for i in range (20)])"
   ]
  },
  {
   "cell_type": "markdown",
   "id": "bd655d42",
   "metadata": {},
   "source": [
    "#MC\n",
    "### Queue 2 Stacks\n",
    "\n",
    "##### Create a queue using two stacks such that the only class attributes for your \"Queue2Stacks\" class are two stacks which are LIFO. Your Q2S class however must conform to the FIFO ordering principle.\n",
    "\n",
    "```\n",
    "Example (of what's expected);\n",
    "q2stackes = Queue2Stacks()\n",
    "for i in range(5):\n",
    "    q2stacks.enqueue(i)\n",
    "    \n",
    "while not q2stacks.is_empty():\n",
    "    print(q2stacks.dequeue())\n",
    "    \n",
    "```\n",
    "\n",
    "The code above should print \"1,2,3,4\" vertically\n"
   ]
  },
  {
   "cell_type": "code",
   "execution_count": 43,
   "id": "debbdb27",
   "metadata": {},
   "outputs": [],
   "source": [
    "class Queue2Stacks:\n",
    "    def __init__(self):\n",
    "        self.stack1 = []\n",
    "        self.stack2 = []\n",
    "        \n",
    "    def enqueue(self, item):\n",
    "        self.stack1.append(item)\n",
    "    \n",
    "    def dequeue(self):\n",
    "        if self.stack2 == []:\n",
    "            while(self.stack1):\n",
    "                element = self.stack1.pop()\n",
    "                self.stack2.append(element)\n",
    "        return self.stacks2.pop()"
   ]
  },
  {
   "cell_type": "code",
   "execution_count": 45,
   "id": "42579467",
   "metadata": {},
   "outputs": [],
   "source": [
    "def reverse_queue2Stack():\n",
    "    q2Stack = Queue2Stack()\n",
    "    for i in range(5):\n",
    "        q2Stack.push(i)\n",
    "        \n",
    "    while not q2Stack.is_empty():\n",
    "        print(qustack.dequeue())\n",
    "        \n",
    "            "
   ]
  },
  {
   "cell_type": "code",
   "execution_count": null,
   "id": "31bb5f45",
   "metadata": {},
   "outputs": [],
   "source": []
  }
 ],
 "metadata": {
  "kernelspec": {
   "display_name": "Python 3 (ipykernel)",
   "language": "python",
   "name": "python3"
  },
  "language_info": {
   "codemirror_mode": {
    "name": "ipython",
    "version": 3
   },
   "file_extension": ".py",
   "mimetype": "text/x-python",
   "name": "python",
   "nbconvert_exporter": "python",
   "pygments_lexer": "ipython3",
   "version": "3.8.10"
  }
 },
 "nbformat": 4,
 "nbformat_minor": 5
}
