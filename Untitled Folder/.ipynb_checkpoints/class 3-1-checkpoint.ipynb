{
 "cells": [
  {
   "cell_type": "code",
   "execution_count": null,
   "id": "ca00aeb9",
   "metadata": {},
   "outputs": [],
   "source": [
    "# In order to create a linked list, we must first define a Node. \n",
    "\n",
    "class Node:\n",
    "    def __init__(self, data):\n",
    "        self.data = data\n",
    "        self.next = None\n",
    "\n"
   ]
  },
  {
   "cell_type": "code",
   "execution_count": 9,
   "id": "53957d1b",
   "metadata": {},
   "outputs": [
    {
     "name": "stdout",
     "output_type": "stream",
     "text": [
      "1\n",
      "2\n",
      "3\n"
     ]
    }
   ],
   "source": [
    "#Let's first start by creating a very rudimentary singly linked list.\n",
    "\n",
    "#We begin by instantiating nodes.\n",
    "node0 = Node(1)\n",
    "node1 = Node(2)\n",
    "node2 = Node(3)\n",
    "\n",
    "# Every linked list has to have a \"head\" node\n",
    "head = node0\n",
    "\n",
    "#Because heand and node0 both reference the same node, we can set it's \"next\" attribute like so:\n",
    "head.next = node1\n",
    "node1.next = node2\n",
    "\n",
    "#List traversal\n",
    "#Travesing a list requries that we keep a reference to a node every time we loop\n",
    "#and update it upon each loop by setting it to the next node's address(in memory)\n",
    "current = head\n",
    "while current: #This is the same are saying \"while current is not None\"\n",
    "    print(current.data)\n",
    "    current = current.next\n",
    "    "
   ]
  },
  {
   "cell_type": "code",
   "execution_count": 6,
   "id": "33e5d49a",
   "metadata": {},
   "outputs": [
    {
     "name": "stdout",
     "output_type": "stream",
     "text": [
      "5\n"
     ]
    }
   ],
   "source": [
    "#pass by value\n",
    "\n",
    "x = 5\n",
    "y= x\n",
    "#Because this is passing the value, the following line creates a \"copy\" of the data\n",
    "y= y-2\n",
    "# the original copy is modified because only the value was passed to y \n",
    "print(x)\n",
    "\n",
    "#What python will pass by value are primitive data type such as int, float, bool, str."
   ]
  },
  {
   "cell_type": "code",
   "execution_count": 7,
   "id": "78cfd2c2",
   "metadata": {},
   "outputs": [
    {
     "name": "stdout",
     "output_type": "stream",
     "text": [
      "3\n"
     ]
    }
   ],
   "source": [
    "#pass by reference\n",
    "\n",
    "x = Node(5)\n",
    "y = x\n",
    "#because both x and y are pointing to the same Node\n",
    "#modifying y is equivalent to modifying x; There aren't 2 nodes here but \n",
    "#a single node, being refernced twice.\n",
    "y.data = y.data-2\n",
    "\n",
    "print(x.data)\n",
    "\n",
    "#most if not all object(instancea of class) with few exceptions (primitives)\n",
    "#will pass by reference by default"
   ]
  },
  {
   "cell_type": "code",
   "execution_count": 36,
   "id": "5304e4b8",
   "metadata": {},
   "outputs": [],
   "source": [
    "# help(list)"
   ]
  },
  {
   "cell_type": "code",
   "execution_count": 66,
   "id": "399d38fc",
   "metadata": {},
   "outputs": [],
   "source": [
    "class SinglyLinkedList:\n",
    "    def __init__(self):\n",
    "        self.head = None       #Our SLL class keeps a reference to the head node\n",
    "        \n",
    "    def append(self, value):   #We first must check if there is a had node\n",
    "        if not self.head:            #... if not, we create a new one. \n",
    "            self.head = Node(value)  # If there IS an existing head...\n",
    "        else:                        #we begin travesing our list until we find the \"tail\"\n",
    "            current = self.head      \n",
    "            while current.next:      #this while loop helps us traverse our list\n",
    "                current = current.next\n",
    "            current.next = Node(value) # finally, when we find the tail Node, we append a new Node to it.\n",
    "    \n",
    "    def __str__(self):\n",
    "        out = \"[%s\" % self.head.data  #You can (and will ) use list traversal to\n",
    "        current = self.head.next      #perform most operation in lists\n",
    "        while current:                #here is another example in which it helps us \n",
    "            out += \", %s\" % current.data\n",
    "            current = current.next\n",
    "        out += \"]\"\n",
    "        return out\n",
    "    \n",
    "    def insert(self, index, value):\n",
    "        new_node = Node(value)\n",
    "        counter = 0\n",
    "        current = self.head\n",
    "        if index < 0:\n",
    "            raise IndexError(\" Negative indexes not supported.\")\n",
    "        if counter == 0:                        #This handle the case where we mean to replace the head\n",
    "            temp_node = self.head\n",
    "            self.head = new_node\n",
    "            self.head.next = temp_node\n",
    "        else:\n",
    "            perv = None\n",
    "            while current.next and counter != index: #this handle the anywhere in the middle\n",
    "                prev = current\n",
    "                current = current.next\n",
    "                counter += 1                        \n",
    "            if index > counter:\n",
    "                current.next = new_node\n",
    "    \n",
    "            elif index == counter:\n",
    "                prev.next = new_node\n",
    "                new_node.next = current\n",
    "                \n",
    "       \n",
    "    def delete(self, key):\n",
    "         # Store head node\n",
    "        current = self.head\n",
    "        \n",
    "        # If head node itself holds the key to be deleted \n",
    "        if(current is not None):\n",
    "            if current.data == key:\n",
    "                self.head = current.next\n",
    "                current = None\n",
    "                return\n",
    " \n",
    "        # Search for the key to be deleted, keep track of the\n",
    "        # previous node as we need to change 'prev.next'\n",
    "        while(current is not None):\n",
    "            if current.data == key:\n",
    "                break\n",
    "            prev = current\n",
    "            current = current.next\n",
    " \n",
    "        # if key was not present in linked list\n",
    "        if(current == None):\n",
    "            return\n",
    " \n",
    "        # Unlink the node from linked list\n",
    "        prev.next = current.next\n",
    " \n",
    "        current = None\n",
    "        return\n",
    "                "
   ]
  },
  {
   "cell_type": "code",
   "execution_count": 68,
   "id": "9d0305fa",
   "metadata": {},
   "outputs": [
    {
     "name": "stdout",
     "output_type": "stream",
     "text": [
      "String representation of our list:\n",
      "[0, 1, 2, 3, 4]\n",
      "Our list after insert the head:\n",
      "[-1, 0, 1, 2, 3, 4]\n",
      "Our list after insert the index2:\n",
      "[0.5, -1, 0, 1, 2, 3, 4]\n",
      "Our list after inserting before an index that is larger that our list:\n",
      "[5, 0.5, -1, 0, 1, 2, 3, 4]\n",
      "You are deleting a item from your list...\n",
      "[5, 0.5, -1, 0, 1, 2, 4]\n"
     ]
    }
   ],
   "source": [
    "sll = SinglyLinkedList()\n",
    "for i in range(5):\n",
    "    sll.append(i)\n",
    "    \n",
    "#current = sll.head\n",
    "#for i in range(5):\n",
    "#    print(current.data)\n",
    "#    current = current.next\n",
    "print(\"String representation of our list:\")    \n",
    "print (sll)  \n",
    "\n",
    "print(\"Our list after insert the head:\")\n",
    "sll.insert(0,-1)\n",
    "print(sll)\n",
    "\n",
    "print(\"Our list after insert the index2:\")\n",
    "sll.insert(2, 0.5)\n",
    "print(sll)\n",
    "\n",
    "print(\"Our list after inserting before an index that is larger that our list:\")\n",
    "sll.insert(1000, 5)\n",
    "print(sll)\n",
    "\n",
    "\n",
    "    \n",
    "print(\"You are deleting a item from your list...\")\n",
    "sll.delete(3)\n",
    "print(sll)\n",
    "    "
   ]
  },
  {
   "cell_type": "code",
   "execution_count": null,
   "id": "5edd44c0",
   "metadata": {},
   "outputs": [],
   "source": []
  },
  {
   "cell_type": "code",
   "execution_count": null,
   "id": "9a05d5aa",
   "metadata": {},
   "outputs": [],
   "source": [
    "print(\"What happens if you try to give our insert method a negative index:\")\n",
    "try:\n",
    "sll.insert(-1,'x')\n",
    "expect IndexError as e:\n",
    "    print(\"Expection message:\")\n",
    "    print(\"\")"
   ]
  }
 ],
 "metadata": {
  "kernelspec": {
   "display_name": "Python 3 (ipykernel)",
   "language": "python",
   "name": "python3"
  },
  "language_info": {
   "codemirror_mode": {
    "name": "ipython",
    "version": 3
   },
   "file_extension": ".py",
   "mimetype": "text/x-python",
   "name": "python",
   "nbconvert_exporter": "python",
   "pygments_lexer": "ipython3",
   "version": "3.8.10"
  }
 },
 "nbformat": 4,
 "nbformat_minor": 5
}
