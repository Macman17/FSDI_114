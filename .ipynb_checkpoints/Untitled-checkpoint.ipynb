{
 "cells": [
  {
   "cell_type": "markdown",
   "id": "d0d659f8",
   "metadata": {},
   "source": [
    "for letter in \"hello, world\":\n",
    "    print(letter)"
   ]
  },
  {
   "cell_type": "code",
   "execution_count": 10,
   "id": "754672e8",
   "metadata": {},
   "outputs": [
    {
     "ename": "SyntaxError",
     "evalue": "invalid syntax (1950575551.py, line 4)",
     "output_type": "error",
     "traceback": [
      "\u001b[0;36m  Input \u001b[0;32mIn [10]\u001b[0;36m\u001b[0m\n\u001b[0;31m    > Two strings are only anagrams of each other if all conditions below are met:\u001b[0m\n\u001b[0m    ^\u001b[0m\n\u001b[0;31mSyntaxError\u001b[0m\u001b[0;31m:\u001b[0m invalid syntax\n"
     ]
    }
   ],
   "source": [
    "# Problem 1\n",
    "###Given two strings(string_a and string_b) let's check whether or not they are anagrams of each other given the following criteria\n",
    "\n",
    "> Two strings are only anagrams of each other if all conditions below are met:\n",
    "> * They must be exactly the same length.\n",
    "> * They must use exactly the same characters (no more, no less).\n",
    "\n",
    "`Example: car and scar, heart and earth, etc`\n",
    "    \n",
    "    \n",
    "```\n",
    "assert are_anagrams(\"cars\", \"scars\")= True\n",
    "assert are_anagrams(\"heart\", \"earth\")= True\n",
    "assert are_anagrams(\"caars\", \"scar\")= False\n",
    "assert are_anagrams(\"rats\", \"sttr\")= False"
   ]
  },
  {
   "cell_type": "code",
   "execution_count": 16,
   "id": "f8ac9577",
   "metadata": {},
   "outputs": [
    {
     "ename": "SyntaxError",
     "evalue": "invalid syntax (3701749310.py, line 2)",
     "output_type": "error",
     "traceback": [
      "\u001b[0;36m  Input \u001b[0;32mIn [16]\u001b[0;36m\u001b[0m\n\u001b[0;31m    pass sorted(\"cars\") == sorted(\"scar\")\u001b[0m\n\u001b[0m         ^\u001b[0m\n\u001b[0;31mSyntaxError\u001b[0m\u001b[0;31m:\u001b[0m invalid syntax\n"
     ]
    }
   ],
   "source": [
    "def are_anagram(string_a, string_b):\n",
    "    if len(string_a) != len(string_b):\n",
    "        return False\n",
    "    char_times_a = dict()\n",
    "    char_times_a = dict()\n",
    "    for i in range(len(string_a)):\n",
    "        if string_a[i] not in char_times_a.keys():\n",
    "            char_times_a[string_a[i]] = 1\n",
    "        else:\n",
    "            char_times_a[string_a[i]] += 1\n",
    "        if string_b[i] not in char_times_b.keys():\n",
    "            char_times_b[string_b[i]] = 1\n",
    "            else:\n",
    "            char_times_b[string_b[i]] += 1\n",
    "            \n",
    "    return char_times_a == char_times_b    "
   ]
  },
  {
   "cell_type": "code",
   "execution_count": null,
   "id": "7db20a84",
   "metadata": {},
   "outputs": [],
   "source": [
    "#Problem extension\n",
    "### In the Harry Potter series, the villain \"Voldemort\" chose this name because the phrase \"I am Lord Voldemort\" is an anagram of \"Tom Marvolo Riddle\".\n",
    "\n",
    "> Given our solution above, update the functions code to ensure that given these two parameters, our function return True.\n",
    "\n",
    "```\n",
    "assert are_anagrams(\"I am Lord Voldemort\", \"Tom Marvolo Riddle\")\n",
    "```"
   ]
  },
  {
   "cell_type": "code",
   "execution_count": null,
   "id": "0220aad1",
   "metadata": {},
   "outputs": [],
   "source": []
  }
 ],
 "metadata": {
  "kernelspec": {
   "display_name": "Python 3 (ipykernel)",
   "language": "python",
   "name": "python3"
  },
  "language_info": {
   "codemirror_mode": {
    "name": "ipython",
    "version": 3
   },
   "file_extension": ".py",
   "mimetype": "text/x-python",
   "name": "python",
   "nbconvert_exporter": "python",
   "pygments_lexer": "ipython3",
   "version": "3.8.10"
  }
 },
 "nbformat": 4,
 "nbformat_minor": 5
}
